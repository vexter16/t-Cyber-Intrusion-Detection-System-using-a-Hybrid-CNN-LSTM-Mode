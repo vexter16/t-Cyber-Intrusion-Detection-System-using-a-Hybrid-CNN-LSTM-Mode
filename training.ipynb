{
 "cells": [
  {
   "cell_type": "code",
   "execution_count": 2,
   "id": "763acdbb",
   "metadata": {},
   "outputs": [],
   "source": [
    "import numpy as np\n",
    "import pandas as pd\n",
    "import matplotlib.pyplot as plt\n",
    "import seaborn as sns\n",
    "\n",
    "from sklearn.preprocessing import LabelEncoder, OneHotEncoder, StandardScaler\n",
    "from sklearn.model_selection import train_test_split # Keep if other models might be used, else not strictly needed for this flow\n",
    "from sklearn.metrics import (classification_report, confusion_matrix,\n",
    "                             accuracy_score, roc_curve, auc, ConfusionMatrixDisplay)\n",
    "from sklearn.feature_selection import RFE\n",
    "from sklearn.tree import DecisionTreeClassifier\n",
    "\n",
    "import tensorflow as tf\n",
    "from tensorflow.keras.models import Sequential, load_model\n",
    "from tensorflow.keras.layers import Conv1D, MaxPooling1D, LSTM, Dense, Dropout, BatchNormalization, Input\n",
    "from tensorflow.keras.optimizers import Adam\n",
    "from tensorflow.keras.regularizers import l2\n",
    "from tensorflow.keras.callbacks import ModelCheckpoint, EarlyStopping, LearningRateScheduler\n",
    "from tensorflow.keras.initializers import he_normal"
   ]
  },
  {
   "cell_type": "code",
   "execution_count": 3,
   "id": "79096a8d",
   "metadata": {},
   "outputs": [
    {
     "name": "stdout",
     "output_type": "stream",
     "text": [
      "Original training data (KDDTrain+) shape: (125972, 43)\n",
      "Original test data (KDDTest+) shape: (22543, 43)\n"
     ]
    }
   ],
   "source": [
    "np.random.seed(1635848)\n",
    "tf.random.set_seed(1635848) # Also set TF's random seed for Keras\n",
    "\n",
    "# NOTE: Based on your script, you've swapped the traditional roles of these files.\n",
    "# KDDTrain+.txt will be used for actual training, KDDTest+.txt for testing/validation.\n",
    "# To avoid confusion later, we'll load them into variables reflecting their role.\n",
    "file_path_actual_train = '/Users/veeshal/Downloads/archive(1)/KDDTrain+.txt'\n",
    "file_path_actual_test = '/Users/veeshal/Downloads/archive(1)/KDDTest+.txt'\n",
    "\n",
    "df_train_orig = pd.read_csv(file_path_actual_train)\n",
    "df_test_orig = pd.read_csv(file_path_actual_test)\n",
    "\n",
    "columns = (['duration','protocol_type','service','flag','src_bytes','dst_bytes','land',\n",
    "            'wrong_fragment','urgent','hot','num_failed_logins','logged_in','num_compromised',\n",
    "            'root_shell','su_attempted','num_root','num_file_creations','num_shells',\n",
    "            'num_access_files','num_outbound_cmds','is_host_login','is_guest_login','count',\n",
    "            'srv_count','serror_rate','srv_serror_rate','rerror_rate','srv_rerror_rate',\n",
    "            'same_srv_rate','diff_srv_rate','srv_diff_host_rate','dst_host_count',\n",
    "            'dst_host_srv_count','dst_host_same_srv_rate','dst_host_diff_srv_rate',\n",
    "            'dst_host_same_src_port_rate','dst_host_srv_diff_host_rate','dst_host_serror_rate',\n",
    "            'dst_host_srv_serror_rate','dst_host_rerror_rate','dst_host_srv_rerror_rate',\n",
    "            'attack','level'])\n",
    "\n",
    "df_train_orig.columns = columns\n",
    "df_test_orig.columns = columns\n",
    "\n",
    "print(\"Original training data (KDDTrain+) shape:\", df_train_orig.shape)\n",
    "print(\"Original test data (KDDTest+) shape:\", df_test_orig.shape)\n",
    "pd.set_option('display.max_columns', None) # Show all columns"
   ]
  },
  {
   "cell_type": "code",
   "execution_count": 4,
   "id": "40734828",
   "metadata": {},
   "outputs": [
    {
     "name": "stdout",
     "output_type": "stream",
     "text": [
      "Shape of training data after OHE: (125972, 124)\n",
      "Shape of test data after OHE: (22543, 124)\n"
     ]
    }
   ],
   "source": [
    "categorical_columns = ['protocol_type', 'service', 'flag']\n",
    "\n",
    "df_train = df_train_orig.copy()\n",
    "df_test = df_test_orig.copy()\n",
    "\n",
    "\n",
    "le_map = {}\n",
    "for col in categorical_columns:\n",
    "    le = LabelEncoder()\n",
    "    df_train[col] = le.fit_transform(df_train[col])\n",
    "    \n",
    "    df_test[col] = df_test[col].map(lambda s: le.transform([s])[0] if s in le.classes_ else -1) \n",
    "\n",
    "ohe = OneHotEncoder(handle_unknown='ignore', sparse_output=False)\n",
    "\n",
    "\n",
    "train_cat_features_ohe = ohe.fit_transform(df_train_orig[categorical_columns])\n",
    "ohe_feature_names = ohe.get_feature_names_out(categorical_columns)\n",
    "df_train_ohe = pd.DataFrame(train_cat_features_ohe, columns=ohe_feature_names, index=df_train.index)\n",
    "\n",
    "test_cat_features_ohe = ohe.transform(df_test_orig[categorical_columns])\n",
    "df_test_ohe = pd.DataFrame(test_cat_features_ohe, columns=ohe_feature_names, index=df_test.index) \n",
    "df_train = df_train.drop(columns=categorical_columns).join(df_train_ohe)\n",
    "df_test = df_test.drop(columns=categorical_columns).join(df_test_ohe)\n",
    "\n",
    "print(\"Shape of training data after OHE:\", df_train.shape)\n",
    "print(\"Shape of test data after OHE:\", df_test.shape)\n",
    "\n",
    "attack_mapping = {\n",
    "    'normal': 0, 'neptune': 1, 'back': 1, 'land': 1, 'pod': 1, 'smurf': 1, 'teardrop': 1,\n",
    "    'mailbomb': 1, 'apache2': 1, 'processtable': 1, 'udpstorm': 1, 'worm': 1,\n",
    "    'ipsweep': 2, 'nmap': 2, 'portsweep': 2, 'satan': 2, 'mscan': 2, 'saint': 2,\n",
    "    'ftp_write': 3, 'guess_passwd': 3, 'imap': 3, 'multihop': 3, 'phf': 3, 'spy': 3,\n",
    "    'warezclient': 3, 'warezmaster': 3, 'sendmail': 3, 'named': 3, 'snmpgetattack': 3,\n",
    "    'snmpguess': 3, 'xlock': 3, 'xsnoop': 3, 'httptunnel': 3,\n",
    "    'buffer_overflow': 4, 'loadmodule': 4, 'perl': 4, 'rootkit': 4, 'ps': 4,\n",
    "    'sqlattack': 4, 'xterm': 4\n",
    "}\n",
    "df_train['attack'] = df_train['attack'].replace(attack_mapping)\n",
    "df_test['attack'] = df_test['attack'].replace(attack_mapping)\n"
   ]
  },
  {
   "cell_type": "code",
   "execution_count": 5,
   "id": "9ee9c786",
   "metadata": {},
   "outputs": [
    {
     "name": "stdout",
     "output_type": "stream",
     "text": [
      "DoS Training Features shape: (113269, 122)\n",
      "DoS Test Features shape: (17170, 122)\n",
      "Aligned DoS Test Features shape: (17170, 122)\n"
     ]
    }
   ],
   "source": [
    "# Filter for DoS (1) vs Normal (0)\n",
    "# Ensure 'attack' column is numeric after mapping; handle any non-mapped strings if necessary\n",
    "df_train['attack'] = pd.to_numeric(df_train['attack'], errors='coerce')\n",
    "df_test['attack'] = pd.to_numeric(df_test['attack'], errors='coerce')\n",
    "df_train.dropna(subset=['attack'], inplace=True) # Drop rows where attack type wasn't in mapping\n",
    "df_test.dropna(subset=['attack'], inplace=True)\n",
    "df_train['attack'] = df_train['attack'].astype(int)\n",
    "df_test['attack'] = df_test['attack'].astype(int)\n",
    "\n",
    "\n",
    "dos_train_df = df_train[df_train['attack'].isin([0, 1])].copy()\n",
    "dos_test_df = df_test[df_test['attack'].isin([0, 1])].copy()\n",
    "\n",
    "X_train_dos_full = dos_train_df.drop(columns=['attack', 'level'])\n",
    "y_train_dos = dos_train_df['attack']\n",
    "\n",
    "X_test_dos_full = dos_test_df.drop(columns=['attack', 'level'])\n",
    "y_test_dos = dos_test_df['attack']\n",
    "\n",
    "print(\"DoS Training Features shape:\", X_train_dos_full.shape)\n",
    "print(\"DoS Test Features shape:\", X_test_dos_full.shape)\n",
    "\n",
    "# Feature Alignment (Post-OHE, Pre-Scaling)\n",
    "# Ensure test set has same columns as training set (and in same order)\n",
    "train_cols = X_train_dos_full.columns\n",
    "X_test_dos_full_aligned = X_test_dos_full.reindex(columns=train_cols, fill_value=0)\n",
    "\n",
    "print(\"Aligned DoS Test Features shape:\", X_test_dos_full_aligned.shape) # Should match X_train_dos_full.shape[1]\n",
    "\n",
    "# Scaling\n",
    "scaler = StandardScaler()\n",
    "X_train_dos_scaled = scaler.fit_transform(X_train_dos_full)\n",
    "X_test_dos_scaled = scaler.transform(X_test_dos_full_aligned) # Use aligned test set"
   ]
  },
  {
   "cell_type": "code",
   "execution_count": 6,
   "id": "b004e170",
   "metadata": {},
   "outputs": [
    {
     "name": "stdout",
     "output_type": "stream",
     "text": [
      "Performing RFE to select 13 features from training data...\n",
      "Selected features by RFE: ['src_bytes', 'dst_bytes', 'wrong_fragment', 'num_compromised', 'same_srv_rate', 'diff_srv_rate', 'dst_host_count', 'dst_host_srv_count', 'dst_host_serror_rate', 'dst_host_srv_serror_rate', 'service_ecr_i', 'flag_RSTR', 'flag_S0']\n",
      "Shape of training data after RFE: (113269, 13)\n",
      "Shape of test data after RFE: (17170, 13)\n"
     ]
    }
   ],
   "source": [
    "N_FEATURES_TO_SELECT = 13\n",
    "rfe_estimator = DecisionTreeClassifier(random_state=1635848)\n",
    "rfe = RFE(estimator=rfe_estimator, n_features_to_select=N_FEATURES_TO_SELECT, step=1)\n",
    "\n",
    "print(f\"Performing RFE to select {N_FEATURES_TO_SELECT} features from training data...\")\n",
    "rfe.fit(X_train_dos_scaled, y_train_dos)\n",
    "\n",
    "# Get selected feature names\n",
    "selected_feature_indices = rfe.support_\n",
    "selected_feature_names = X_train_dos_full.columns[selected_feature_indices]\n",
    "print(\"Selected features by RFE:\", selected_feature_names.tolist())\n",
    "\n",
    "# Create DataFrames with scaled data to select features by name easily\n",
    "X_train_dos_scaled_df = pd.DataFrame(X_train_dos_scaled, columns=X_train_dos_full.columns)\n",
    "X_test_dos_scaled_df = pd.DataFrame(X_test_dos_scaled, columns=X_train_dos_full.columns) # Use same columns as train\n",
    "\n",
    "# Select RFE features from scaled data\n",
    "X_train_rfe = X_train_dos_scaled_df[selected_feature_names].values\n",
    "X_test_rfe = X_test_dos_scaled_df[selected_feature_names].values\n",
    "\n",
    "print(\"Shape of training data after RFE:\", X_train_rfe.shape)\n",
    "print(\"Shape of test data after RFE:\", X_test_rfe.shape)"
   ]
  },
  {
   "cell_type": "code",
   "execution_count": 7,
   "id": "817e80ea",
   "metadata": {},
   "outputs": [],
   "source": [
    "X_train_reshaped = X_train_rfe.reshape(X_train_rfe.shape[0], X_train_rfe.shape[1], 1)\n",
    "X_test_reshaped = X_test_rfe.reshape(X_test_rfe.shape[0], X_test_rfe.shape[1], 1)"
   ]
  },
  {
   "cell_type": "code",
   "execution_count": 8,
   "id": "18c5742e",
   "metadata": {},
   "outputs": [],
   "source": [
    "initial_learning_rate = 0.001\n",
    "def lr_schedule(epoch):\n",
    "    return initial_learning_rate * (0.1 ** (epoch // 20)) # Adjusted decay frequency\n",
    "\n",
    "early_stopping = EarlyStopping(monitor='val_loss', patience=10, restore_best_weights=True, verbose=1)\n",
    "lr_scheduler = LearningRateScheduler(lr_schedule, verbose=1)\n",
    "model_checkpoint = ModelCheckpoint(\n",
    "    filepath='/Users/veeshal/A-Hybrid-CNN-LSTM-Approach-for-Intelligent-Cyber-Intrusion-Detection-System/cnnlstm_dos_model_best.keras',\n",
    "    verbose=1, save_best_only=True, monitor='val_accuracy', mode='max'\n",
    ")\n",
    "callbacks_list = [model_checkpoint, early_stopping, lr_scheduler]"
   ]
  },
  {
   "cell_type": "code",
   "execution_count": 10,
   "id": "82fafbb2",
   "metadata": {},
   "outputs": [],
   "source": [
    "model = Sequential(name=\"CNN_LSTM_DoS_Detector\")\n",
    "input_shape_cnn = (X_train_reshaped.shape[1], X_train_reshaped.shape[2]) # (13, 1)\n",
    "\n",
    "model.add(Input(shape=input_shape_cnn))\n",
    "model.add(Conv1D(64, 3, padding=\"same\", activation='relu', kernel_initializer=he_normal))\n",
    "model.add(BatchNormalization())\n",
    "model.add(MaxPooling1D(pool_size=2))\n",
    "model.add(Dropout(0.25)) # Slightly increased dropout\n",
    "\n",
    "model.add(Conv1D(128, 3, padding=\"same\", activation='relu', kernel_initializer=he_normal))\n",
    "model.add(BatchNormalization())\n",
    "model.add(MaxPooling1D(pool_size=2))\n",
    "model.add(Dropout(0.35))\n",
    "# Check if pool_size makes sense for the length after convolutions\n",
    "# After 2 pooling layers with size 2, sequence length 13 -> 13/2 = 6 -> 6/2 = 3.\n",
    "# If it becomes too small (e.g., 1), a third pooling might not be useful or error out.\n",
    "# Current: 13 -> Conv -> Pool(2) [len 6] -> Conv -> Pool(2) [len 3]\n",
    "# Adding another pooling layer makes length 3 -> Pool(2) [len 1]\n",
    "if X_train_reshaped.shape[1] // 4 > 1: # Check if sequence length after two poolings is > 1\n",
    "    model.add(Conv1D(256, 3, padding=\"same\", activation='relu', kernel_initializer=he_normal))\n",
    "    model.add(BatchNormalization())\n",
    "    model.add(MaxPooling1D(pool_size=2)) # This might reduce seq_len to 1 if it was 3\n",
    "    model.add(Dropout(0.45))\n",
    "else:\n",
    "    print(\"Skipping third Conv-Pool block as sequence length would be too small.\")\n",
    "\n",
    "\n",
    "model.add(LSTM(units=128, dropout=0.25, recurrent_dropout=0.25, return_sequences=False)) # Adjusted LSTM units\n",
    "model.add(Dense(units=1, activation='sigmoid', kernel_regularizer=l2(0.005))) # Adjusted L2"
   ]
  },
  {
   "cell_type": "code",
   "execution_count": 11,
   "id": "632b2111",
   "metadata": {},
   "outputs": [
    {
     "data": {
      "text/html": [
       "<pre style=\"white-space:pre;overflow-x:auto;line-height:normal;font-family:Menlo,'DejaVu Sans Mono',consolas,'Courier New',monospace\"><span style=\"font-weight: bold\">Model: \"CNN_LSTM_DoS_Detector\"</span>\n",
       "</pre>\n"
      ],
      "text/plain": [
       "\u001b[1mModel: \"CNN_LSTM_DoS_Detector\"\u001b[0m\n"
      ]
     },
     "metadata": {},
     "output_type": "display_data"
    },
    {
     "data": {
      "text/html": [
       "<pre style=\"white-space:pre;overflow-x:auto;line-height:normal;font-family:Menlo,'DejaVu Sans Mono',consolas,'Courier New',monospace\">┏━━━━━━━━━━━━━━━━━━━━━━━━━━━━━━━━━┳━━━━━━━━━━━━━━━━━━━━━━━━┳━━━━━━━━━━━━━━━┓\n",
       "┃<span style=\"font-weight: bold\"> Layer (type)                    </span>┃<span style=\"font-weight: bold\"> Output Shape           </span>┃<span style=\"font-weight: bold\">       Param # </span>┃\n",
       "┡━━━━━━━━━━━━━━━━━━━━━━━━━━━━━━━━━╇━━━━━━━━━━━━━━━━━━━━━━━━╇━━━━━━━━━━━━━━━┩\n",
       "│ conv1d_2 (<span style=\"color: #0087ff; text-decoration-color: #0087ff\">Conv1D</span>)               │ (<span style=\"color: #00d7ff; text-decoration-color: #00d7ff\">None</span>, <span style=\"color: #00af00; text-decoration-color: #00af00\">13</span>, <span style=\"color: #00af00; text-decoration-color: #00af00\">64</span>)         │           <span style=\"color: #00af00; text-decoration-color: #00af00\">256</span> │\n",
       "├─────────────────────────────────┼────────────────────────┼───────────────┤\n",
       "│ batch_normalization_2           │ (<span style=\"color: #00d7ff; text-decoration-color: #00d7ff\">None</span>, <span style=\"color: #00af00; text-decoration-color: #00af00\">13</span>, <span style=\"color: #00af00; text-decoration-color: #00af00\">64</span>)         │           <span style=\"color: #00af00; text-decoration-color: #00af00\">256</span> │\n",
       "│ (<span style=\"color: #0087ff; text-decoration-color: #0087ff\">BatchNormalization</span>)            │                        │               │\n",
       "├─────────────────────────────────┼────────────────────────┼───────────────┤\n",
       "│ max_pooling1d_2 (<span style=\"color: #0087ff; text-decoration-color: #0087ff\">MaxPooling1D</span>)  │ (<span style=\"color: #00d7ff; text-decoration-color: #00d7ff\">None</span>, <span style=\"color: #00af00; text-decoration-color: #00af00\">6</span>, <span style=\"color: #00af00; text-decoration-color: #00af00\">64</span>)          │             <span style=\"color: #00af00; text-decoration-color: #00af00\">0</span> │\n",
       "├─────────────────────────────────┼────────────────────────┼───────────────┤\n",
       "│ dropout_2 (<span style=\"color: #0087ff; text-decoration-color: #0087ff\">Dropout</span>)             │ (<span style=\"color: #00d7ff; text-decoration-color: #00d7ff\">None</span>, <span style=\"color: #00af00; text-decoration-color: #00af00\">6</span>, <span style=\"color: #00af00; text-decoration-color: #00af00\">64</span>)          │             <span style=\"color: #00af00; text-decoration-color: #00af00\">0</span> │\n",
       "├─────────────────────────────────┼────────────────────────┼───────────────┤\n",
       "│ conv1d_3 (<span style=\"color: #0087ff; text-decoration-color: #0087ff\">Conv1D</span>)               │ (<span style=\"color: #00d7ff; text-decoration-color: #00d7ff\">None</span>, <span style=\"color: #00af00; text-decoration-color: #00af00\">6</span>, <span style=\"color: #00af00; text-decoration-color: #00af00\">128</span>)         │        <span style=\"color: #00af00; text-decoration-color: #00af00\">24,704</span> │\n",
       "├─────────────────────────────────┼────────────────────────┼───────────────┤\n",
       "│ batch_normalization_3           │ (<span style=\"color: #00d7ff; text-decoration-color: #00d7ff\">None</span>, <span style=\"color: #00af00; text-decoration-color: #00af00\">6</span>, <span style=\"color: #00af00; text-decoration-color: #00af00\">128</span>)         │           <span style=\"color: #00af00; text-decoration-color: #00af00\">512</span> │\n",
       "│ (<span style=\"color: #0087ff; text-decoration-color: #0087ff\">BatchNormalization</span>)            │                        │               │\n",
       "├─────────────────────────────────┼────────────────────────┼───────────────┤\n",
       "│ max_pooling1d_3 (<span style=\"color: #0087ff; text-decoration-color: #0087ff\">MaxPooling1D</span>)  │ (<span style=\"color: #00d7ff; text-decoration-color: #00d7ff\">None</span>, <span style=\"color: #00af00; text-decoration-color: #00af00\">3</span>, <span style=\"color: #00af00; text-decoration-color: #00af00\">128</span>)         │             <span style=\"color: #00af00; text-decoration-color: #00af00\">0</span> │\n",
       "├─────────────────────────────────┼────────────────────────┼───────────────┤\n",
       "│ dropout_3 (<span style=\"color: #0087ff; text-decoration-color: #0087ff\">Dropout</span>)             │ (<span style=\"color: #00d7ff; text-decoration-color: #00d7ff\">None</span>, <span style=\"color: #00af00; text-decoration-color: #00af00\">3</span>, <span style=\"color: #00af00; text-decoration-color: #00af00\">128</span>)         │             <span style=\"color: #00af00; text-decoration-color: #00af00\">0</span> │\n",
       "├─────────────────────────────────┼────────────────────────┼───────────────┤\n",
       "│ conv1d_4 (<span style=\"color: #0087ff; text-decoration-color: #0087ff\">Conv1D</span>)               │ (<span style=\"color: #00d7ff; text-decoration-color: #00d7ff\">None</span>, <span style=\"color: #00af00; text-decoration-color: #00af00\">3</span>, <span style=\"color: #00af00; text-decoration-color: #00af00\">256</span>)         │        <span style=\"color: #00af00; text-decoration-color: #00af00\">98,560</span> │\n",
       "├─────────────────────────────────┼────────────────────────┼───────────────┤\n",
       "│ batch_normalization_4           │ (<span style=\"color: #00d7ff; text-decoration-color: #00d7ff\">None</span>, <span style=\"color: #00af00; text-decoration-color: #00af00\">3</span>, <span style=\"color: #00af00; text-decoration-color: #00af00\">256</span>)         │         <span style=\"color: #00af00; text-decoration-color: #00af00\">1,024</span> │\n",
       "│ (<span style=\"color: #0087ff; text-decoration-color: #0087ff\">BatchNormalization</span>)            │                        │               │\n",
       "├─────────────────────────────────┼────────────────────────┼───────────────┤\n",
       "│ max_pooling1d_4 (<span style=\"color: #0087ff; text-decoration-color: #0087ff\">MaxPooling1D</span>)  │ (<span style=\"color: #00d7ff; text-decoration-color: #00d7ff\">None</span>, <span style=\"color: #00af00; text-decoration-color: #00af00\">1</span>, <span style=\"color: #00af00; text-decoration-color: #00af00\">256</span>)         │             <span style=\"color: #00af00; text-decoration-color: #00af00\">0</span> │\n",
       "├─────────────────────────────────┼────────────────────────┼───────────────┤\n",
       "│ dropout_4 (<span style=\"color: #0087ff; text-decoration-color: #0087ff\">Dropout</span>)             │ (<span style=\"color: #00d7ff; text-decoration-color: #00d7ff\">None</span>, <span style=\"color: #00af00; text-decoration-color: #00af00\">1</span>, <span style=\"color: #00af00; text-decoration-color: #00af00\">256</span>)         │             <span style=\"color: #00af00; text-decoration-color: #00af00\">0</span> │\n",
       "├─────────────────────────────────┼────────────────────────┼───────────────┤\n",
       "│ lstm (<span style=\"color: #0087ff; text-decoration-color: #0087ff\">LSTM</span>)                     │ (<span style=\"color: #00d7ff; text-decoration-color: #00d7ff\">None</span>, <span style=\"color: #00af00; text-decoration-color: #00af00\">128</span>)            │       <span style=\"color: #00af00; text-decoration-color: #00af00\">197,120</span> │\n",
       "├─────────────────────────────────┼────────────────────────┼───────────────┤\n",
       "│ dense (<span style=\"color: #0087ff; text-decoration-color: #0087ff\">Dense</span>)                   │ (<span style=\"color: #00d7ff; text-decoration-color: #00d7ff\">None</span>, <span style=\"color: #00af00; text-decoration-color: #00af00\">1</span>)              │           <span style=\"color: #00af00; text-decoration-color: #00af00\">129</span> │\n",
       "└─────────────────────────────────┴────────────────────────┴───────────────┘\n",
       "</pre>\n"
      ],
      "text/plain": [
       "┏━━━━━━━━━━━━━━━━━━━━━━━━━━━━━━━━━┳━━━━━━━━━━━━━━━━━━━━━━━━┳━━━━━━━━━━━━━━━┓\n",
       "┃\u001b[1m \u001b[0m\u001b[1mLayer (type)                   \u001b[0m\u001b[1m \u001b[0m┃\u001b[1m \u001b[0m\u001b[1mOutput Shape          \u001b[0m\u001b[1m \u001b[0m┃\u001b[1m \u001b[0m\u001b[1m      Param #\u001b[0m\u001b[1m \u001b[0m┃\n",
       "┡━━━━━━━━━━━━━━━━━━━━━━━━━━━━━━━━━╇━━━━━━━━━━━━━━━━━━━━━━━━╇━━━━━━━━━━━━━━━┩\n",
       "│ conv1d_2 (\u001b[38;5;33mConv1D\u001b[0m)               │ (\u001b[38;5;45mNone\u001b[0m, \u001b[38;5;34m13\u001b[0m, \u001b[38;5;34m64\u001b[0m)         │           \u001b[38;5;34m256\u001b[0m │\n",
       "├─────────────────────────────────┼────────────────────────┼───────────────┤\n",
       "│ batch_normalization_2           │ (\u001b[38;5;45mNone\u001b[0m, \u001b[38;5;34m13\u001b[0m, \u001b[38;5;34m64\u001b[0m)         │           \u001b[38;5;34m256\u001b[0m │\n",
       "│ (\u001b[38;5;33mBatchNormalization\u001b[0m)            │                        │               │\n",
       "├─────────────────────────────────┼────────────────────────┼───────────────┤\n",
       "│ max_pooling1d_2 (\u001b[38;5;33mMaxPooling1D\u001b[0m)  │ (\u001b[38;5;45mNone\u001b[0m, \u001b[38;5;34m6\u001b[0m, \u001b[38;5;34m64\u001b[0m)          │             \u001b[38;5;34m0\u001b[0m │\n",
       "├─────────────────────────────────┼────────────────────────┼───────────────┤\n",
       "│ dropout_2 (\u001b[38;5;33mDropout\u001b[0m)             │ (\u001b[38;5;45mNone\u001b[0m, \u001b[38;5;34m6\u001b[0m, \u001b[38;5;34m64\u001b[0m)          │             \u001b[38;5;34m0\u001b[0m │\n",
       "├─────────────────────────────────┼────────────────────────┼───────────────┤\n",
       "│ conv1d_3 (\u001b[38;5;33mConv1D\u001b[0m)               │ (\u001b[38;5;45mNone\u001b[0m, \u001b[38;5;34m6\u001b[0m, \u001b[38;5;34m128\u001b[0m)         │        \u001b[38;5;34m24,704\u001b[0m │\n",
       "├─────────────────────────────────┼────────────────────────┼───────────────┤\n",
       "│ batch_normalization_3           │ (\u001b[38;5;45mNone\u001b[0m, \u001b[38;5;34m6\u001b[0m, \u001b[38;5;34m128\u001b[0m)         │           \u001b[38;5;34m512\u001b[0m │\n",
       "│ (\u001b[38;5;33mBatchNormalization\u001b[0m)            │                        │               │\n",
       "├─────────────────────────────────┼────────────────────────┼───────────────┤\n",
       "│ max_pooling1d_3 (\u001b[38;5;33mMaxPooling1D\u001b[0m)  │ (\u001b[38;5;45mNone\u001b[0m, \u001b[38;5;34m3\u001b[0m, \u001b[38;5;34m128\u001b[0m)         │             \u001b[38;5;34m0\u001b[0m │\n",
       "├─────────────────────────────────┼────────────────────────┼───────────────┤\n",
       "│ dropout_3 (\u001b[38;5;33mDropout\u001b[0m)             │ (\u001b[38;5;45mNone\u001b[0m, \u001b[38;5;34m3\u001b[0m, \u001b[38;5;34m128\u001b[0m)         │             \u001b[38;5;34m0\u001b[0m │\n",
       "├─────────────────────────────────┼────────────────────────┼───────────────┤\n",
       "│ conv1d_4 (\u001b[38;5;33mConv1D\u001b[0m)               │ (\u001b[38;5;45mNone\u001b[0m, \u001b[38;5;34m3\u001b[0m, \u001b[38;5;34m256\u001b[0m)         │        \u001b[38;5;34m98,560\u001b[0m │\n",
       "├─────────────────────────────────┼────────────────────────┼───────────────┤\n",
       "│ batch_normalization_4           │ (\u001b[38;5;45mNone\u001b[0m, \u001b[38;5;34m3\u001b[0m, \u001b[38;5;34m256\u001b[0m)         │         \u001b[38;5;34m1,024\u001b[0m │\n",
       "│ (\u001b[38;5;33mBatchNormalization\u001b[0m)            │                        │               │\n",
       "├─────────────────────────────────┼────────────────────────┼───────────────┤\n",
       "│ max_pooling1d_4 (\u001b[38;5;33mMaxPooling1D\u001b[0m)  │ (\u001b[38;5;45mNone\u001b[0m, \u001b[38;5;34m1\u001b[0m, \u001b[38;5;34m256\u001b[0m)         │             \u001b[38;5;34m0\u001b[0m │\n",
       "├─────────────────────────────────┼────────────────────────┼───────────────┤\n",
       "│ dropout_4 (\u001b[38;5;33mDropout\u001b[0m)             │ (\u001b[38;5;45mNone\u001b[0m, \u001b[38;5;34m1\u001b[0m, \u001b[38;5;34m256\u001b[0m)         │             \u001b[38;5;34m0\u001b[0m │\n",
       "├─────────────────────────────────┼────────────────────────┼───────────────┤\n",
       "│ lstm (\u001b[38;5;33mLSTM\u001b[0m)                     │ (\u001b[38;5;45mNone\u001b[0m, \u001b[38;5;34m128\u001b[0m)            │       \u001b[38;5;34m197,120\u001b[0m │\n",
       "├─────────────────────────────────┼────────────────────────┼───────────────┤\n",
       "│ dense (\u001b[38;5;33mDense\u001b[0m)                   │ (\u001b[38;5;45mNone\u001b[0m, \u001b[38;5;34m1\u001b[0m)              │           \u001b[38;5;34m129\u001b[0m │\n",
       "└─────────────────────────────────┴────────────────────────┴───────────────┘\n"
      ]
     },
     "metadata": {},
     "output_type": "display_data"
    },
    {
     "data": {
      "text/html": [
       "<pre style=\"white-space:pre;overflow-x:auto;line-height:normal;font-family:Menlo,'DejaVu Sans Mono',consolas,'Courier New',monospace\"><span style=\"font-weight: bold\"> Total params: </span><span style=\"color: #00af00; text-decoration-color: #00af00\">322,561</span> (1.23 MB)\n",
       "</pre>\n"
      ],
      "text/plain": [
       "\u001b[1m Total params: \u001b[0m\u001b[38;5;34m322,561\u001b[0m (1.23 MB)\n"
      ]
     },
     "metadata": {},
     "output_type": "display_data"
    },
    {
     "data": {
      "text/html": [
       "<pre style=\"white-space:pre;overflow-x:auto;line-height:normal;font-family:Menlo,'DejaVu Sans Mono',consolas,'Courier New',monospace\"><span style=\"font-weight: bold\"> Trainable params: </span><span style=\"color: #00af00; text-decoration-color: #00af00\">321,665</span> (1.23 MB)\n",
       "</pre>\n"
      ],
      "text/plain": [
       "\u001b[1m Trainable params: \u001b[0m\u001b[38;5;34m321,665\u001b[0m (1.23 MB)\n"
      ]
     },
     "metadata": {},
     "output_type": "display_data"
    },
    {
     "data": {
      "text/html": [
       "<pre style=\"white-space:pre;overflow-x:auto;line-height:normal;font-family:Menlo,'DejaVu Sans Mono',consolas,'Courier New',monospace\"><span style=\"font-weight: bold\"> Non-trainable params: </span><span style=\"color: #00af00; text-decoration-color: #00af00\">896</span> (3.50 KB)\n",
       "</pre>\n"
      ],
      "text/plain": [
       "\u001b[1m Non-trainable params: \u001b[0m\u001b[38;5;34m896\u001b[0m (3.50 KB)\n"
      ]
     },
     "metadata": {},
     "output_type": "display_data"
    }
   ],
   "source": [
    "optimizer = Adam(learning_rate=initial_learning_rate)\n",
    "model.compile(loss='binary_crossentropy', optimizer=optimizer, metrics=['accuracy'])\n",
    "model.summary()"
   ]
  },
  {
   "cell_type": "code",
   "execution_count": 12,
   "id": "5fba0835",
   "metadata": {},
   "outputs": [
    {
     "name": "stdout",
     "output_type": "stream",
     "text": [
      "\n",
      "Starting model training...\n",
      "\n",
      "Epoch 1: LearningRateScheduler setting learning rate to 0.001.\n",
      "Epoch 1/50\n",
      "\u001b[1m221/222\u001b[0m \u001b[32m━━━━━━━━━━━━━━━━━━━\u001b[0m\u001b[37m━\u001b[0m \u001b[1m0s\u001b[0m 47ms/step - accuracy: 0.9571 - loss: 0.1519\n",
      "Epoch 1: val_accuracy improved from -inf to 0.87665, saving model to /Users/veeshal/A-Hybrid-CNN-LSTM-Approach-for-Intelligent-Cyber-Intrusion-Detection-System/cnnlstm_dos_model_best.keras\n",
      "\u001b[1m222/222\u001b[0m \u001b[32m━━━━━━━━━━━━━━━━━━━━\u001b[0m\u001b[37m\u001b[0m \u001b[1m16s\u001b[0m 51ms/step - accuracy: 0.9573 - loss: 0.1513 - val_accuracy: 0.8766 - val_loss: 0.4981 - learning_rate: 0.0010\n",
      "\n",
      "Epoch 2: LearningRateScheduler setting learning rate to 0.001.\n",
      "Epoch 2/50\n",
      "\u001b[1m221/222\u001b[0m \u001b[32m━━━━━━━━━━━━━━━━━━━\u001b[0m\u001b[37m━\u001b[0m \u001b[1m0s\u001b[0m 55ms/step - accuracy: 0.9863 - loss: 0.0499\n",
      "Epoch 2: val_accuracy improved from 0.87665 to 0.87699, saving model to /Users/veeshal/A-Hybrid-CNN-LSTM-Approach-for-Intelligent-Cyber-Intrusion-Detection-System/cnnlstm_dos_model_best.keras\n",
      "\u001b[1m222/222\u001b[0m \u001b[32m━━━━━━━━━━━━━━━━━━━━\u001b[0m\u001b[37m\u001b[0m \u001b[1m13s\u001b[0m 57ms/step - accuracy: 0.9863 - loss: 0.0499 - val_accuracy: 0.8770 - val_loss: 0.5843 - learning_rate: 0.0010\n",
      "\n",
      "Epoch 3: LearningRateScheduler setting learning rate to 0.001.\n",
      "Epoch 3/50\n",
      "\u001b[1m222/222\u001b[0m \u001b[32m━━━━━━━━━━━━━━━━━━━━\u001b[0m\u001b[37m\u001b[0m \u001b[1m0s\u001b[0m 52ms/step - accuracy: 0.9928 - loss: 0.0311\n",
      "Epoch 3: val_accuracy improved from 0.87699 to 0.89552, saving model to /Users/veeshal/A-Hybrid-CNN-LSTM-Approach-for-Intelligent-Cyber-Intrusion-Detection-System/cnnlstm_dos_model_best.keras\n",
      "\u001b[1m222/222\u001b[0m \u001b[32m━━━━━━━━━━━━━━━━━━━━\u001b[0m\u001b[37m\u001b[0m \u001b[1m12s\u001b[0m 53ms/step - accuracy: 0.9928 - loss: 0.0311 - val_accuracy: 0.8955 - val_loss: 0.5408 - learning_rate: 0.0010\n",
      "\n",
      "Epoch 4: LearningRateScheduler setting learning rate to 0.001.\n",
      "Epoch 4/50\n",
      "\u001b[1m222/222\u001b[0m \u001b[32m━━━━━━━━━━━━━━━━━━━━\u001b[0m\u001b[37m\u001b[0m \u001b[1m0s\u001b[0m 47ms/step - accuracy: 0.9942 - loss: 0.0262\n",
      "Epoch 4: val_accuracy improved from 0.89552 to 0.89651, saving model to /Users/veeshal/A-Hybrid-CNN-LSTM-Approach-for-Intelligent-Cyber-Intrusion-Detection-System/cnnlstm_dos_model_best.keras\n",
      "\u001b[1m222/222\u001b[0m \u001b[32m━━━━━━━━━━━━━━━━━━━━\u001b[0m\u001b[37m\u001b[0m \u001b[1m11s\u001b[0m 49ms/step - accuracy: 0.9942 - loss: 0.0262 - val_accuracy: 0.8965 - val_loss: 0.5267 - learning_rate: 0.0010\n",
      "\n",
      "Epoch 5: LearningRateScheduler setting learning rate to 0.001.\n",
      "Epoch 5/50\n",
      "\u001b[1m221/222\u001b[0m \u001b[32m━━━━━━━━━━━━━━━━━━━\u001b[0m\u001b[37m━\u001b[0m \u001b[1m0s\u001b[0m 48ms/step - accuracy: 0.9945 - loss: 0.0245\n",
      "Epoch 5: val_accuracy improved from 0.89651 to 0.89691, saving model to /Users/veeshal/A-Hybrid-CNN-LSTM-Approach-for-Intelligent-Cyber-Intrusion-Detection-System/cnnlstm_dos_model_best.keras\n",
      "\u001b[1m222/222\u001b[0m \u001b[32m━━━━━━━━━━━━━━━━━━━━\u001b[0m\u001b[37m\u001b[0m \u001b[1m11s\u001b[0m 50ms/step - accuracy: 0.9945 - loss: 0.0245 - val_accuracy: 0.8969 - val_loss: 0.5348 - learning_rate: 0.0010\n",
      "\n",
      "Epoch 6: LearningRateScheduler setting learning rate to 0.001.\n",
      "Epoch 6/50\n",
      "\u001b[1m221/222\u001b[0m \u001b[32m━━━━━━━━━━━━━━━━━━━\u001b[0m\u001b[37m━\u001b[0m \u001b[1m0s\u001b[0m 47ms/step - accuracy: 0.9951 - loss: 0.0232\n",
      "Epoch 6: val_accuracy did not improve from 0.89691\n",
      "\u001b[1m222/222\u001b[0m \u001b[32m━━━━━━━━━━━━━━━━━━━━\u001b[0m\u001b[37m\u001b[0m \u001b[1m11s\u001b[0m 48ms/step - accuracy: 0.9951 - loss: 0.0232 - val_accuracy: 0.8968 - val_loss: 0.5309 - learning_rate: 0.0010\n",
      "\n",
      "Epoch 7: LearningRateScheduler setting learning rate to 0.001.\n",
      "Epoch 7/50\n",
      "\u001b[1m222/222\u001b[0m \u001b[32m━━━━━━━━━━━━━━━━━━━━\u001b[0m\u001b[37m\u001b[0m \u001b[1m0s\u001b[0m 49ms/step - accuracy: 0.9951 - loss: 0.0223\n",
      "Epoch 7: val_accuracy improved from 0.89691 to 0.92376, saving model to /Users/veeshal/A-Hybrid-CNN-LSTM-Approach-for-Intelligent-Cyber-Intrusion-Detection-System/cnnlstm_dos_model_best.keras\n",
      "\u001b[1m222/222\u001b[0m \u001b[32m━━━━━━━━━━━━━━━━━━━━\u001b[0m\u001b[37m\u001b[0m \u001b[1m11s\u001b[0m 51ms/step - accuracy: 0.9951 - loss: 0.0223 - val_accuracy: 0.9238 - val_loss: 0.4912 - learning_rate: 0.0010\n",
      "\n",
      "Epoch 8: LearningRateScheduler setting learning rate to 0.001.\n",
      "Epoch 8/50\n",
      "\u001b[1m221/222\u001b[0m \u001b[32m━━━━━━━━━━━━━━━━━━━\u001b[0m\u001b[37m━\u001b[0m \u001b[1m0s\u001b[0m 48ms/step - accuracy: 0.9951 - loss: 0.0217\n",
      "Epoch 8: val_accuracy did not improve from 0.92376\n",
      "\u001b[1m222/222\u001b[0m \u001b[32m━━━━━━━━━━━━━━━━━━━━\u001b[0m\u001b[37m\u001b[0m \u001b[1m11s\u001b[0m 49ms/step - accuracy: 0.9951 - loss: 0.0217 - val_accuracy: 0.9234 - val_loss: 0.4905 - learning_rate: 0.0010\n",
      "\n",
      "Epoch 9: LearningRateScheduler setting learning rate to 0.001.\n",
      "Epoch 9/50\n",
      "\u001b[1m221/222\u001b[0m \u001b[32m━━━━━━━━━━━━━━━━━━━\u001b[0m\u001b[37m━\u001b[0m \u001b[1m0s\u001b[0m 48ms/step - accuracy: 0.9953 - loss: 0.0209\n",
      "Epoch 9: val_accuracy improved from 0.92376 to 0.92487, saving model to /Users/veeshal/A-Hybrid-CNN-LSTM-Approach-for-Intelligent-Cyber-Intrusion-Detection-System/cnnlstm_dos_model_best.keras\n",
      "\u001b[1m222/222\u001b[0m \u001b[32m━━━━━━━━━━━━━━━━━━━━\u001b[0m\u001b[37m\u001b[0m \u001b[1m11s\u001b[0m 50ms/step - accuracy: 0.9953 - loss: 0.0209 - val_accuracy: 0.9249 - val_loss: 0.4916 - learning_rate: 0.0010\n",
      "\n",
      "Epoch 10: LearningRateScheduler setting learning rate to 0.001.\n",
      "Epoch 10/50\n",
      "\u001b[1m222/222\u001b[0m \u001b[32m━━━━━━━━━━━━━━━━━━━━\u001b[0m\u001b[37m\u001b[0m \u001b[1m0s\u001b[0m 48ms/step - accuracy: 0.9954 - loss: 0.0203\n",
      "Epoch 10: val_accuracy did not improve from 0.92487\n",
      "\u001b[1m222/222\u001b[0m \u001b[32m━━━━━━━━━━━━━━━━━━━━\u001b[0m\u001b[37m\u001b[0m \u001b[1m11s\u001b[0m 49ms/step - accuracy: 0.9954 - loss: 0.0203 - val_accuracy: 0.9232 - val_loss: 0.4844 - learning_rate: 0.0010\n",
      "\n",
      "Epoch 11: LearningRateScheduler setting learning rate to 0.001.\n",
      "Epoch 11/50\n",
      "\u001b[1m222/222\u001b[0m \u001b[32m━━━━━━━━━━━━━━━━━━━━\u001b[0m\u001b[37m\u001b[0m \u001b[1m0s\u001b[0m 49ms/step - accuracy: 0.9954 - loss: 0.0197\n",
      "Epoch 11: val_accuracy did not improve from 0.92487\n",
      "\u001b[1m222/222\u001b[0m \u001b[32m━━━━━━━━━━━━━━━━━━━━\u001b[0m\u001b[37m\u001b[0m \u001b[1m11s\u001b[0m 50ms/step - accuracy: 0.9954 - loss: 0.0197 - val_accuracy: 0.9228 - val_loss: 0.4849 - learning_rate: 0.0010\n",
      "\n",
      "Epoch 12: LearningRateScheduler setting learning rate to 0.001.\n",
      "Epoch 12/50\n",
      "\u001b[1m221/222\u001b[0m \u001b[32m━━━━━━━━━━━━━━━━━━━\u001b[0m\u001b[37m━\u001b[0m \u001b[1m0s\u001b[0m 48ms/step - accuracy: 0.9955 - loss: 0.0196\n",
      "Epoch 12: val_accuracy did not improve from 0.92487\n",
      "\u001b[1m222/222\u001b[0m \u001b[32m━━━━━━━━━━━━━━━━━━━━\u001b[0m\u001b[37m\u001b[0m \u001b[1m11s\u001b[0m 50ms/step - accuracy: 0.9955 - loss: 0.0196 - val_accuracy: 0.9225 - val_loss: 0.4880 - learning_rate: 0.0010\n",
      "\n",
      "Epoch 13: LearningRateScheduler setting learning rate to 0.001.\n",
      "Epoch 13/50\n",
      "\u001b[1m222/222\u001b[0m \u001b[32m━━━━━━━━━━━━━━━━━━━━\u001b[0m\u001b[37m\u001b[0m \u001b[1m0s\u001b[0m 49ms/step - accuracy: 0.9958 - loss: 0.0186\n",
      "Epoch 13: val_accuracy did not improve from 0.92487\n",
      "\u001b[1m222/222\u001b[0m \u001b[32m━━━━━━━━━━━━━━━━━━━━\u001b[0m\u001b[37m\u001b[0m \u001b[1m11s\u001b[0m 50ms/step - accuracy: 0.9958 - loss: 0.0186 - val_accuracy: 0.9211 - val_loss: 0.5009 - learning_rate: 0.0010\n",
      "\n",
      "Epoch 14: LearningRateScheduler setting learning rate to 0.001.\n",
      "Epoch 14/50\n",
      "\u001b[1m222/222\u001b[0m \u001b[32m━━━━━━━━━━━━━━━━━━━━\u001b[0m\u001b[37m\u001b[0m \u001b[1m0s\u001b[0m 48ms/step - accuracy: 0.9957 - loss: 0.0188\n",
      "Epoch 14: val_accuracy did not improve from 0.92487\n",
      "\u001b[1m222/222\u001b[0m \u001b[32m━━━━━━━━━━━━━━━━━━━━\u001b[0m\u001b[37m\u001b[0m \u001b[1m11s\u001b[0m 50ms/step - accuracy: 0.9957 - loss: 0.0188 - val_accuracy: 0.9224 - val_loss: 0.4872 - learning_rate: 0.0010\n",
      "\n",
      "Epoch 15: LearningRateScheduler setting learning rate to 0.001.\n",
      "Epoch 15/50\n",
      "\u001b[1m222/222\u001b[0m \u001b[32m━━━━━━━━━━━━━━━━━━━━\u001b[0m\u001b[37m\u001b[0m \u001b[1m0s\u001b[0m 51ms/step - accuracy: 0.9957 - loss: 0.0184\n",
      "Epoch 15: val_accuracy did not improve from 0.92487\n",
      "\u001b[1m222/222\u001b[0m \u001b[32m━━━━━━━━━━━━━━━━━━━━\u001b[0m\u001b[37m\u001b[0m \u001b[1m12s\u001b[0m 52ms/step - accuracy: 0.9957 - loss: 0.0184 - val_accuracy: 0.9211 - val_loss: 0.4930 - learning_rate: 0.0010\n",
      "\n",
      "Epoch 16: LearningRateScheduler setting learning rate to 0.001.\n",
      "Epoch 16/50\n",
      "\u001b[1m221/222\u001b[0m \u001b[32m━━━━━━━━━━━━━━━━━━━\u001b[0m\u001b[37m━\u001b[0m \u001b[1m0s\u001b[0m 50ms/step - accuracy: 0.9957 - loss: 0.0190\n",
      "Epoch 16: val_accuracy improved from 0.92487 to 0.92557, saving model to /Users/veeshal/A-Hybrid-CNN-LSTM-Approach-for-Intelligent-Cyber-Intrusion-Detection-System/cnnlstm_dos_model_best.keras\n",
      "\u001b[1m222/222\u001b[0m \u001b[32m━━━━━━━━━━━━━━━━━━━━\u001b[0m\u001b[37m\u001b[0m \u001b[1m12s\u001b[0m 52ms/step - accuracy: 0.9957 - loss: 0.0190 - val_accuracy: 0.9256 - val_loss: 0.4838 - learning_rate: 0.0010\n",
      "\n",
      "Epoch 17: LearningRateScheduler setting learning rate to 0.001.\n",
      "Epoch 17/50\n",
      "\u001b[1m221/222\u001b[0m \u001b[32m━━━━━━━━━━━━━━━━━━━\u001b[0m\u001b[37m━\u001b[0m \u001b[1m0s\u001b[0m 47ms/step - accuracy: 0.9956 - loss: 0.0185\n",
      "Epoch 17: val_accuracy did not improve from 0.92557\n",
      "\u001b[1m222/222\u001b[0m \u001b[32m━━━━━━━━━━━━━━━━━━━━\u001b[0m\u001b[37m\u001b[0m \u001b[1m11s\u001b[0m 49ms/step - accuracy: 0.9956 - loss: 0.0185 - val_accuracy: 0.9219 - val_loss: 0.4952 - learning_rate: 0.0010\n"
     ]
    },
    {
     "name": "stdout",
     "output_type": "stream",
     "text": [
      "\n",
      "Epoch 18: LearningRateScheduler setting learning rate to 0.001.\n",
      "Epoch 18/50\n",
      "\u001b[1m221/222\u001b[0m \u001b[32m━━━━━━━━━━━━━━━━━━━\u001b[0m\u001b[37m━\u001b[0m \u001b[1m0s\u001b[0m 48ms/step - accuracy: 0.9958 - loss: 0.0178\n",
      "Epoch 18: val_accuracy did not improve from 0.92557\n",
      "\u001b[1m222/222\u001b[0m \u001b[32m━━━━━━━━━━━━━━━━━━━━\u001b[0m\u001b[37m\u001b[0m \u001b[1m11s\u001b[0m 49ms/step - accuracy: 0.9958 - loss: 0.0178 - val_accuracy: 0.9246 - val_loss: 0.4816 - learning_rate: 0.0010\n",
      "\n",
      "Epoch 19: LearningRateScheduler setting learning rate to 0.001.\n",
      "Epoch 19/50\n",
      "\u001b[1m221/222\u001b[0m \u001b[32m━━━━━━━━━━━━━━━━━━━\u001b[0m\u001b[37m━\u001b[0m \u001b[1m0s\u001b[0m 48ms/step - accuracy: 0.9956 - loss: 0.0182\n",
      "Epoch 19: val_accuracy did not improve from 0.92557\n",
      "\u001b[1m222/222\u001b[0m \u001b[32m━━━━━━━━━━━━━━━━━━━━\u001b[0m\u001b[37m\u001b[0m \u001b[1m11s\u001b[0m 50ms/step - accuracy: 0.9956 - loss: 0.0182 - val_accuracy: 0.9242 - val_loss: 0.4871 - learning_rate: 0.0010\n",
      "\n",
      "Epoch 20: LearningRateScheduler setting learning rate to 0.001.\n",
      "Epoch 20/50\n",
      "\u001b[1m221/222\u001b[0m \u001b[32m━━━━━━━━━━━━━━━━━━━\u001b[0m\u001b[37m━\u001b[0m \u001b[1m0s\u001b[0m 51ms/step - accuracy: 0.9958 - loss: 0.0176\n",
      "Epoch 20: val_accuracy improved from 0.92557 to 0.92568, saving model to /Users/veeshal/A-Hybrid-CNN-LSTM-Approach-for-Intelligent-Cyber-Intrusion-Detection-System/cnnlstm_dos_model_best.keras\n",
      "\u001b[1m222/222\u001b[0m \u001b[32m━━━━━━━━━━━━━━━━━━━━\u001b[0m\u001b[37m\u001b[0m \u001b[1m12s\u001b[0m 53ms/step - accuracy: 0.9958 - loss: 0.0176 - val_accuracy: 0.9257 - val_loss: 0.4921 - learning_rate: 0.0010\n",
      "\n",
      "Epoch 21: LearningRateScheduler setting learning rate to 0.0001.\n",
      "Epoch 21/50\n",
      "\u001b[1m221/222\u001b[0m \u001b[32m━━━━━━━━━━━━━━━━━━━\u001b[0m\u001b[37m━\u001b[0m \u001b[1m0s\u001b[0m 49ms/step - accuracy: 0.9956 - loss: 0.0176\n",
      "Epoch 21: val_accuracy did not improve from 0.92568\n",
      "\u001b[1m222/222\u001b[0m \u001b[32m━━━━━━━━━━━━━━━━━━━━\u001b[0m\u001b[37m\u001b[0m \u001b[1m11s\u001b[0m 50ms/step - accuracy: 0.9956 - loss: 0.0176 - val_accuracy: 0.9249 - val_loss: 0.4980 - learning_rate: 1.0000e-04\n",
      "\n",
      "Epoch 22: LearningRateScheduler setting learning rate to 0.0001.\n",
      "Epoch 22/50\n",
      "\u001b[1m221/222\u001b[0m \u001b[32m━━━━━━━━━━━━━━━━━━━\u001b[0m\u001b[37m━\u001b[0m \u001b[1m0s\u001b[0m 49ms/step - accuracy: 0.9957 - loss: 0.0170\n",
      "Epoch 22: val_accuracy did not improve from 0.92568\n",
      "\u001b[1m222/222\u001b[0m \u001b[32m━━━━━━━━━━━━━━━━━━━━\u001b[0m\u001b[37m\u001b[0m \u001b[1m11s\u001b[0m 50ms/step - accuracy: 0.9957 - loss: 0.0170 - val_accuracy: 0.9252 - val_loss: 0.5001 - learning_rate: 1.0000e-04\n",
      "\n",
      "Epoch 23: LearningRateScheduler setting learning rate to 0.0001.\n",
      "Epoch 23/50\n",
      "\u001b[1m222/222\u001b[0m \u001b[32m━━━━━━━━━━━━━━━━━━━━\u001b[0m\u001b[37m\u001b[0m \u001b[1m0s\u001b[0m 49ms/step - accuracy: 0.9959 - loss: 0.0170\n",
      "Epoch 23: val_accuracy did not improve from 0.92568\n",
      "\u001b[1m222/222\u001b[0m \u001b[32m━━━━━━━━━━━━━━━━━━━━\u001b[0m\u001b[37m\u001b[0m \u001b[1m11s\u001b[0m 50ms/step - accuracy: 0.9959 - loss: 0.0170 - val_accuracy: 0.9239 - val_loss: 0.5006 - learning_rate: 1.0000e-04\n",
      "\n",
      "Epoch 24: LearningRateScheduler setting learning rate to 0.0001.\n",
      "Epoch 24/50\n",
      "\u001b[1m222/222\u001b[0m \u001b[32m━━━━━━━━━━━━━━━━━━━━\u001b[0m\u001b[37m\u001b[0m \u001b[1m0s\u001b[0m 52ms/step - accuracy: 0.9957 - loss: 0.0173\n",
      "Epoch 24: val_accuracy did not improve from 0.92568\n",
      "\u001b[1m222/222\u001b[0m \u001b[32m━━━━━━━━━━━━━━━━━━━━\u001b[0m\u001b[37m\u001b[0m \u001b[1m12s\u001b[0m 53ms/step - accuracy: 0.9957 - loss: 0.0173 - val_accuracy: 0.9250 - val_loss: 0.4988 - learning_rate: 1.0000e-04\n",
      "\n",
      "Epoch 25: LearningRateScheduler setting learning rate to 0.0001.\n",
      "Epoch 25/50\n",
      "\u001b[1m221/222\u001b[0m \u001b[32m━━━━━━━━━━━━━━━━━━━\u001b[0m\u001b[37m━\u001b[0m \u001b[1m0s\u001b[0m 49ms/step - accuracy: 0.9958 - loss: 0.0168\n",
      "Epoch 25: val_accuracy did not improve from 0.92568\n",
      "\u001b[1m222/222\u001b[0m \u001b[32m━━━━━━━━━━━━━━━━━━━━\u001b[0m\u001b[37m\u001b[0m \u001b[1m11s\u001b[0m 50ms/step - accuracy: 0.9958 - loss: 0.0168 - val_accuracy: 0.9245 - val_loss: 0.4992 - learning_rate: 1.0000e-04\n",
      "\n",
      "Epoch 26: LearningRateScheduler setting learning rate to 0.0001.\n",
      "Epoch 26/50\n",
      "\u001b[1m222/222\u001b[0m \u001b[32m━━━━━━━━━━━━━━━━━━━━\u001b[0m\u001b[37m\u001b[0m \u001b[1m0s\u001b[0m 50ms/step - accuracy: 0.9959 - loss: 0.0166\n",
      "Epoch 26: val_accuracy did not improve from 0.92568\n",
      "\u001b[1m222/222\u001b[0m \u001b[32m━━━━━━━━━━━━━━━━━━━━\u001b[0m\u001b[37m\u001b[0m \u001b[1m12s\u001b[0m 52ms/step - accuracy: 0.9959 - loss: 0.0166 - val_accuracy: 0.9246 - val_loss: 0.4987 - learning_rate: 1.0000e-04\n",
      "\n",
      "Epoch 27: LearningRateScheduler setting learning rate to 0.0001.\n",
      "Epoch 27/50\n",
      "\u001b[1m221/222\u001b[0m \u001b[32m━━━━━━━━━━━━━━━━━━━\u001b[0m\u001b[37m━\u001b[0m \u001b[1m0s\u001b[0m 49ms/step - accuracy: 0.9958 - loss: 0.0169\n",
      "Epoch 27: val_accuracy did not improve from 0.92568\n",
      "\u001b[1m222/222\u001b[0m \u001b[32m━━━━━━━━━━━━━━━━━━━━\u001b[0m\u001b[37m\u001b[0m \u001b[1m11s\u001b[0m 50ms/step - accuracy: 0.9958 - loss: 0.0169 - val_accuracy: 0.9234 - val_loss: 0.4971 - learning_rate: 1.0000e-04\n",
      "\n",
      "Epoch 28: LearningRateScheduler setting learning rate to 0.0001.\n",
      "Epoch 28/50\n",
      "\u001b[1m222/222\u001b[0m \u001b[32m━━━━━━━━━━━━━━━━━━━━\u001b[0m\u001b[37m\u001b[0m \u001b[1m0s\u001b[0m 48ms/step - accuracy: 0.9958 - loss: 0.0162\n",
      "Epoch 28: val_accuracy did not improve from 0.92568\n",
      "\u001b[1m222/222\u001b[0m \u001b[32m━━━━━━━━━━━━━━━━━━━━\u001b[0m\u001b[37m\u001b[0m \u001b[1m11s\u001b[0m 50ms/step - accuracy: 0.9958 - loss: 0.0162 - val_accuracy: 0.9235 - val_loss: 0.4998 - learning_rate: 1.0000e-04\n",
      "Epoch 28: early stopping\n",
      "Restoring model weights from the end of the best epoch: 18.\n"
     ]
    }
   ],
   "source": [
    "print(\"\\nStarting model training...\")\n",
    "history = model.fit(\n",
    "    X_train_reshaped, y_train_dos,\n",
    "    epochs=50, # Reduced epochs for quicker run, adjust as needed\n",
    "    batch_size=512, # Adjusted batch size\n",
    "    validation_data=(X_test_reshaped, y_test_dos),\n",
    "    callbacks=callbacks_list,\n",
    "    verbose=1\n",
    ")\n"
   ]
  },
  {
   "cell_type": "code",
   "execution_count": 13,
   "id": "c19bd604",
   "metadata": {},
   "outputs": [
    {
     "name": "stdout",
     "output_type": "stream",
     "text": [
      "\n",
      "Loading best model for evaluation...\n",
      "\u001b[1m537/537\u001b[0m \u001b[32m━━━━━━━━━━━━━━━━━━━━\u001b[0m\u001b[37m\u001b[0m \u001b[1m2s\u001b[0m 3ms/step\n",
      "\n",
      "Classification Report (on KDDTest+ data):\n",
      "              precision    recall  f1-score   support\n",
      "\n",
      "  Normal (0)       0.89      0.99      0.94      9711\n",
      "     DoS (1)       0.99      0.84      0.91      7459\n",
      "\n",
      "    accuracy                           0.93     17170\n",
      "   macro avg       0.94      0.92      0.92     17170\n",
      "weighted avg       0.93      0.93      0.92     17170\n",
      "\n"
     ]
    }
   ],
   "source": [
    "print(\"\\nLoading best model for evaluation...\")\n",
    "best_model = load_model('/Users/veeshal/A-Hybrid-CNN-LSTM-Approach-for-Intelligent-Cyber-Intrusion-Detection-System/cnnlstm_dos_model_best.keras')\n",
    "\n",
    "y_pred_proba = best_model.predict(X_test_reshaped)\n",
    "y_pred_binary = (y_pred_proba > 0.5).astype(int)\n",
    "\n",
    "print(\"\\nClassification Report (on KDDTest+ data):\")\n",
    "print(classification_report(y_test_dos, y_pred_binary, target_names=['Normal (0)', 'DoS (1)']))"
   ]
  },
  {
   "cell_type": "code",
   "execution_count": 14,
   "id": "4b9388ac",
   "metadata": {},
   "outputs": [
    {
     "data": {
      "image/png": "[encoded data removed]",
      "text/plain": [
       "<Figure size 1200x500 with 2 Axes>"
      ]
     },
     "metadata": {},
     "output_type": "display_data"
    }
   ],
   "source": [
    "plt.figure(figsize=(12, 5))\n",
    "plt.subplot(1, 2, 1)\n",
    "plt.plot(history.history['accuracy'], label='Train Accuracy')\n",
    "plt.plot(history.history['val_accuracy'], label='Validation Accuracy')\n",
    "plt.title('Model Accuracy (DoS Detection)')\n",
    "plt.ylabel('Accuracy')\n",
    "plt.xlabel('Epoch')\n",
    "plt.legend(loc='lower right')\n",
    "plt.grid(True)\n",
    "\n",
    "# Plotting loss\n",
    "plt.subplot(1, 2, 2)\n",
    "plt.plot(history.history['loss'], label='Train Loss')\n",
    "plt.plot(history.history['val_loss'], label='Validation Loss')\n",
    "plt.title('Model Loss (DoS Detection)')\n",
    "plt.ylabel('Loss')\n",
    "plt.xlabel('Epoch')\n",
    "plt.legend(loc='upper right')\n",
    "plt.grid(True)\n",
    "plt.tight_layout()\n",
    "plt.savefig('training_history_dos_ref.png')\n",
    "plt.show()\n"
   ]
  },
  {
   "cell_type": "code",
   "execution_count": 15,
   "id": "d11ecb56",
   "metadata": {},
   "outputs": [
    {
     "data": {
      "image/png": "[encoded data removed]",
      "text/plain": [
       "<Figure size 640x480 with 2 Axes>"
      ]
     },
     "metadata": {},
     "output_type": "display_data"
    }
   ],
   "source": [
    "cm = confusion_matrix(y_test_dos, y_pred_binary)\n",
    "disp = ConfusionMatrixDisplay(confusion_matrix=cm, display_labels=['Normal', 'DoS'])\n",
    "disp.plot(cmap=plt.cm.Blues)\n",
    "plt.title('Confusion Matrix (DoS Detection on KDDTest+)')\n",
    "plt.savefig('confusion_matrix_dos_ref.png')\n",
    "plt.show()"
   ]
  },
  {
   "cell_type": "code",
   "execution_count": 16,
   "id": "6a0fe559",
   "metadata": {},
   "outputs": [
    {
     "name": "stdout",
     "output_type": "stream",
     "text": [
      "\n",
      "Saving artifacts for frontend deployment...\n",
      "Scaler saved as scaler_dos.pkl\n",
      "OneHotEncoder saved as ohe_dos.pkl\n",
      "RFE selected features saved to rfe_selected_feature_names_dos.json\n",
      "All scaler columns saved to all_scaler_columns_dos.json\n",
      "Categorical column names saved to categorical_column_names.json\n",
      "\n",
      "Artifact saving complete.\n"
     ]
    }
   ],
   "source": [
    "import joblib\n",
    "import json\n",
    "\n",
    "# ... (your existing training code) ...\n",
    "\n",
    "# --- 8. SAVE ARTIFACTS FOR FRONTEND ---\n",
    "print(\"\\nSaving artifacts for frontend deployment...\")\n",
    "\n",
    "# 1. Save the best Keras model (already done by ModelCheckpoint, but good to have a final explicit save if needed)\n",
    "# best_model.save('cnnlstm_dos_model_final.keras') # Or use the one from ModelCheckpoint\n",
    "\n",
    "# 2. Save the StandardScaler\n",
    "joblib.dump(scaler, 'scaler_dos.pkl')\n",
    "print(\"Scaler saved as scaler_dos.pkl\")\n",
    "\n",
    "# 3. Save the OneHotEncoder (ohe object used for categorical_columns)\n",
    "joblib.dump(ohe, 'ohe_dos.pkl') # Make sure 'ohe' is the OneHotEncoder instance you fitted\n",
    "print(\"OneHotEncoder saved as ohe_dos.pkl\")\n",
    "\n",
    "# 4. Save the RFE-selected feature names\n",
    "with open('rfe_selected_feature_names_dos.json', 'w') as f:\n",
    "    json.dump(selected_feature_names.tolist(), f) # selected_feature_names from RFE\n",
    "print(\"RFE selected features saved to rfe_selected_feature_names_dos.json\")\n",
    "\n",
    "# 5. Save the list of all columns the scaler was trained on (after OHE, before RFE)\n",
    "# These are the columns of X_train_dos_full\n",
    "all_scaler_columns = X_train_dos_full.columns.tolist()\n",
    "with open('all_scaler_columns_dos.json', 'w') as f:\n",
    "    json.dump(all_scaler_columns, f)\n",
    "print(\"All scaler columns saved to all_scaler_columns_dos.json\")\n",
    "\n",
    "# 6. Save the original categorical column names\n",
    "# categorical_columns = ['protocol_type', 'service', 'flag'] (defined earlier)\n",
    "with open('categorical_column_names.json', 'w') as f:\n",
    "    json.dump(categorical_columns, f)\n",
    "print(\"Categorical column names saved to categorical_column_names.json\")\n",
    "\n",
    "print(\"\\nArtifact saving complete.\")"
   ]
  },
  {
   "cell_type": "code",
   "execution_count": null,
   "id": "4fe56903",
   "metadata": {},
   "outputs": [],
   "source": []
  }
 ],
 "metadata": {
  "kernelspec": {
   "display_name": "Python 3 (ipykernel)",
   "language": "python",
   "name": "python3"
  },
  "language_info": {
   "codemirror_mode": {
    "name": "ipython",
    "version": 3
   },
   "file_extension": ".py",
   "mimetype": "text/x-python",
   "name": "python",
   "nbconvert_exporter": "python",
   "pygments_lexer": "ipython3",
   "version": "3.11.5"
  }
 },
 "nbformat": 4,
 "nbformat_minor": 5
}
